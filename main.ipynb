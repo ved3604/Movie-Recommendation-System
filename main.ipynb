{
 "cells": [
  {
   "cell_type": "code",
   "execution_count": 1,
   "metadata": {},
   "outputs": [],
   "source": [
    "import pandas as pd\n",
    "\n",
    "df = pd.read_csv('movie_data.csv')"
   ]
  },
  {
   "cell_type": "code",
   "execution_count": 2,
   "metadata": {},
   "outputs": [
    {
     "data": {
      "text/html": [
       "<div>\n",
       "<style scoped>\n",
       "    .dataframe tbody tr th:only-of-type {\n",
       "        vertical-align: middle;\n",
       "    }\n",
       "\n",
       "    .dataframe tbody tr th {\n",
       "        vertical-align: top;\n",
       "    }\n",
       "\n",
       "    .dataframe thead th {\n",
       "        text-align: right;\n",
       "    }\n",
       "</style>\n",
       "<table border=\"1\" class=\"dataframe\">\n",
       "  <thead>\n",
       "    <tr style=\"text-align: right;\">\n",
       "      <th></th>\n",
       "      <th>Original Language</th>\n",
       "      <th>Original Title</th>\n",
       "      <th>Overview</th>\n",
       "      <th>Popularity</th>\n",
       "      <th>Poster Path</th>\n",
       "      <th>Release Date</th>\n",
       "      <th>Title</th>\n",
       "      <th>Video</th>\n",
       "      <th>Vote Average</th>\n",
       "      <th>Vote Count</th>\n",
       "    </tr>\n",
       "  </thead>\n",
       "  <tbody>\n",
       "    <tr>\n",
       "      <th>0</th>\n",
       "      <td>en</td>\n",
       "      <td>Fast X</td>\n",
       "      <td>Over many missions and against impossible odds...</td>\n",
       "      <td>4654.279</td>\n",
       "      <td>/fiVW06jE7z9YnO4trhaMEdclSiC.jpg</td>\n",
       "      <td>2023-05-17</td>\n",
       "      <td>Fast X</td>\n",
       "      <td>False</td>\n",
       "      <td>7.3</td>\n",
       "      <td>2093</td>\n",
       "    </tr>\n",
       "    <tr>\n",
       "      <th>1</th>\n",
       "      <td>en</td>\n",
       "      <td>Extraction 2</td>\n",
       "      <td>Tasked with extracting a family who is at the ...</td>\n",
       "      <td>2494.010</td>\n",
       "      <td>/7gKI9hpEMcZUQpNgKrkDzJpbnNS.jpg</td>\n",
       "      <td>2023-06-09</td>\n",
       "      <td>Extraction 2</td>\n",
       "      <td>False</td>\n",
       "      <td>7.7</td>\n",
       "      <td>910</td>\n",
       "    </tr>\n",
       "    <tr>\n",
       "      <th>2</th>\n",
       "      <td>en</td>\n",
       "      <td>John Wick: Chapter 4</td>\n",
       "      <td>With the price on his head ever increasing, Jo...</td>\n",
       "      <td>1920.127</td>\n",
       "      <td>/vZloFAK7NmvMGKE7VkF5UHaz0I.jpg</td>\n",
       "      <td>2023-03-22</td>\n",
       "      <td>John Wick: Chapter 4</td>\n",
       "      <td>False</td>\n",
       "      <td>7.9</td>\n",
       "      <td>3344</td>\n",
       "    </tr>\n",
       "    <tr>\n",
       "      <th>3</th>\n",
       "      <td>en</td>\n",
       "      <td>Spider-Man: Across the Spider-Verse</td>\n",
       "      <td>After reuniting with Gwen Stacy, Brooklyn’s fu...</td>\n",
       "      <td>2013.795</td>\n",
       "      <td>/8Vt6mWEReuy4Of61Lnj5Xj704m8.jpg</td>\n",
       "      <td>2023-05-31</td>\n",
       "      <td>Spider-Man: Across the Spider-Verse</td>\n",
       "      <td>False</td>\n",
       "      <td>8.6</td>\n",
       "      <td>1796</td>\n",
       "    </tr>\n",
       "    <tr>\n",
       "      <th>4</th>\n",
       "      <td>en</td>\n",
       "      <td>The Super Mario Bros. Movie</td>\n",
       "      <td>While working underground to fix a water main,...</td>\n",
       "      <td>1539.037</td>\n",
       "      <td>/qNBAXBIQlnOThrVvA6mA2B5ggV6.jpg</td>\n",
       "      <td>2023-04-05</td>\n",
       "      <td>The Super Mario Bros. Movie</td>\n",
       "      <td>False</td>\n",
       "      <td>7.8</td>\n",
       "      <td>5165</td>\n",
       "    </tr>\n",
       "  </tbody>\n",
       "</table>\n",
       "</div>"
      ],
      "text/plain": [
       "  Original Language                       Original Title  \\\n",
       "0                en                               Fast X   \n",
       "1                en                         Extraction 2   \n",
       "2                en                 John Wick: Chapter 4   \n",
       "3                en  Spider-Man: Across the Spider-Verse   \n",
       "4                en          The Super Mario Bros. Movie   \n",
       "\n",
       "                                            Overview  Popularity  \\\n",
       "0  Over many missions and against impossible odds...    4654.279   \n",
       "1  Tasked with extracting a family who is at the ...    2494.010   \n",
       "2  With the price on his head ever increasing, Jo...    1920.127   \n",
       "3  After reuniting with Gwen Stacy, Brooklyn’s fu...    2013.795   \n",
       "4  While working underground to fix a water main,...    1539.037   \n",
       "\n",
       "                        Poster Path Release Date  \\\n",
       "0  /fiVW06jE7z9YnO4trhaMEdclSiC.jpg   2023-05-17   \n",
       "1  /7gKI9hpEMcZUQpNgKrkDzJpbnNS.jpg   2023-06-09   \n",
       "2   /vZloFAK7NmvMGKE7VkF5UHaz0I.jpg   2023-03-22   \n",
       "3  /8Vt6mWEReuy4Of61Lnj5Xj704m8.jpg   2023-05-31   \n",
       "4  /qNBAXBIQlnOThrVvA6mA2B5ggV6.jpg   2023-04-05   \n",
       "\n",
       "                                 Title  Video  Vote Average  Vote Count  \n",
       "0                               Fast X  False           7.3        2093  \n",
       "1                         Extraction 2  False           7.7         910  \n",
       "2                 John Wick: Chapter 4  False           7.9        3344  \n",
       "3  Spider-Man: Across the Spider-Verse  False           8.6        1796  \n",
       "4          The Super Mario Bros. Movie  False           7.8        5165  "
      ]
     },
     "execution_count": 2,
     "metadata": {},
     "output_type": "execute_result"
    }
   ],
   "source": [
    "df.head()"
   ]
  },
  {
   "cell_type": "code",
   "execution_count": 3,
   "metadata": {},
   "outputs": [
    {
     "data": {
      "text/plain": [
       "Index(['Original Language', 'Original Title', 'Overview', 'Popularity',\n",
       "       'Poster Path', 'Release Date', 'Title', 'Video', 'Vote Average',\n",
       "       'Vote Count'],\n",
       "      dtype='object')"
      ]
     },
     "execution_count": 3,
     "metadata": {},
     "output_type": "execute_result"
    }
   ],
   "source": [
    "df.columns"
   ]
  },
  {
   "cell_type": "code",
   "execution_count": 4,
   "metadata": {},
   "outputs": [],
   "source": [
    "df = df.drop('Poster Path',axis=1)"
   ]
  },
  {
   "cell_type": "code",
   "execution_count": 5,
   "metadata": {},
   "outputs": [],
   "source": [
    "df = df.drop(['Original Language','Video','Title','Release Date'], axis =1)"
   ]
  },
  {
   "cell_type": "code",
   "execution_count": 6,
   "metadata": {},
   "outputs": [
    {
     "data": {
      "text/html": [
       "<div>\n",
       "<style scoped>\n",
       "    .dataframe tbody tr th:only-of-type {\n",
       "        vertical-align: middle;\n",
       "    }\n",
       "\n",
       "    .dataframe tbody tr th {\n",
       "        vertical-align: top;\n",
       "    }\n",
       "\n",
       "    .dataframe thead th {\n",
       "        text-align: right;\n",
       "    }\n",
       "</style>\n",
       "<table border=\"1\" class=\"dataframe\">\n",
       "  <thead>\n",
       "    <tr style=\"text-align: right;\">\n",
       "      <th></th>\n",
       "      <th>Original Title</th>\n",
       "      <th>Overview</th>\n",
       "      <th>Popularity</th>\n",
       "      <th>Vote Average</th>\n",
       "      <th>Vote Count</th>\n",
       "    </tr>\n",
       "  </thead>\n",
       "  <tbody>\n",
       "    <tr>\n",
       "      <th>0</th>\n",
       "      <td>Fast X</td>\n",
       "      <td>Over many missions and against impossible odds...</td>\n",
       "      <td>4654.279</td>\n",
       "      <td>7.3</td>\n",
       "      <td>2093</td>\n",
       "    </tr>\n",
       "    <tr>\n",
       "      <th>1</th>\n",
       "      <td>Extraction 2</td>\n",
       "      <td>Tasked with extracting a family who is at the ...</td>\n",
       "      <td>2494.010</td>\n",
       "      <td>7.7</td>\n",
       "      <td>910</td>\n",
       "    </tr>\n",
       "    <tr>\n",
       "      <th>2</th>\n",
       "      <td>John Wick: Chapter 4</td>\n",
       "      <td>With the price on his head ever increasing, Jo...</td>\n",
       "      <td>1920.127</td>\n",
       "      <td>7.9</td>\n",
       "      <td>3344</td>\n",
       "    </tr>\n",
       "    <tr>\n",
       "      <th>3</th>\n",
       "      <td>Spider-Man: Across the Spider-Verse</td>\n",
       "      <td>After reuniting with Gwen Stacy, Brooklyn’s fu...</td>\n",
       "      <td>2013.795</td>\n",
       "      <td>8.6</td>\n",
       "      <td>1796</td>\n",
       "    </tr>\n",
       "    <tr>\n",
       "      <th>4</th>\n",
       "      <td>The Super Mario Bros. Movie</td>\n",
       "      <td>While working underground to fix a water main,...</td>\n",
       "      <td>1539.037</td>\n",
       "      <td>7.8</td>\n",
       "      <td>5165</td>\n",
       "    </tr>\n",
       "  </tbody>\n",
       "</table>\n",
       "</div>"
      ],
      "text/plain": [
       "                        Original Title  \\\n",
       "0                               Fast X   \n",
       "1                         Extraction 2   \n",
       "2                 John Wick: Chapter 4   \n",
       "3  Spider-Man: Across the Spider-Verse   \n",
       "4          The Super Mario Bros. Movie   \n",
       "\n",
       "                                            Overview  Popularity  \\\n",
       "0  Over many missions and against impossible odds...    4654.279   \n",
       "1  Tasked with extracting a family who is at the ...    2494.010   \n",
       "2  With the price on his head ever increasing, Jo...    1920.127   \n",
       "3  After reuniting with Gwen Stacy, Brooklyn’s fu...    2013.795   \n",
       "4  While working underground to fix a water main,...    1539.037   \n",
       "\n",
       "   Vote Average  Vote Count  \n",
       "0           7.3        2093  \n",
       "1           7.7         910  \n",
       "2           7.9        3344  \n",
       "3           8.6        1796  \n",
       "4           7.8        5165  "
      ]
     },
     "execution_count": 6,
     "metadata": {},
     "output_type": "execute_result"
    }
   ],
   "source": [
    "df.head()\n"
   ]
  },
  {
   "cell_type": "code",
   "execution_count": 7,
   "metadata": {},
   "outputs": [
    {
     "data": {
      "text/plain": [
       "(10000, 5)"
      ]
     },
     "execution_count": 7,
     "metadata": {},
     "output_type": "execute_result"
    }
   ],
   "source": [
    "df.isnull().sum()\n",
    "df.shape"
   ]
  },
  {
   "cell_type": "code",
   "execution_count": 8,
   "metadata": {},
   "outputs": [],
   "source": [
    "# removing Null values in dataset\n",
    "df.dropna(inplace=True)"
   ]
  },
  {
   "cell_type": "code",
   "execution_count": 9,
   "metadata": {},
   "outputs": [
    {
     "name": "stdout",
     "output_type": "stream",
     "text": [
      "<class 'pandas.core.frame.DataFrame'>\n",
      "Index: 9937 entries, 0 to 9999\n",
      "Data columns (total 5 columns):\n",
      " #   Column          Non-Null Count  Dtype  \n",
      "---  ------          --------------  -----  \n",
      " 0   Original Title  9937 non-null   object \n",
      " 1   Overview        9937 non-null   object \n",
      " 2   Popularity      9937 non-null   float64\n",
      " 3   Vote Average    9937 non-null   float64\n",
      " 4   Vote Count      9937 non-null   int64  \n",
      "dtypes: float64(2), int64(1), object(2)\n",
      "memory usage: 465.8+ KB\n"
     ]
    }
   ],
   "source": [
    "df.info()"
   ]
  },
  {
   "cell_type": "code",
   "execution_count": 10,
   "metadata": {},
   "outputs": [
    {
     "name": "stdout",
     "output_type": "stream",
     "text": [
      "0.25463492024811\n"
     ]
    }
   ],
   "source": [
    "correlation = df['Vote Count'].corr(df['Vote Average'])\n",
    "print(correlation)\n"
   ]
  },
  {
   "cell_type": "code",
   "execution_count": 11,
   "metadata": {},
   "outputs": [
    {
     "data": {
      "text/plain": [
       "6.377498238905103"
      ]
     },
     "execution_count": 11,
     "metadata": {},
     "output_type": "execute_result"
    }
   ],
   "source": [
    "C = df['Vote Average'].mean()\n",
    "C"
   ]
  },
  {
   "cell_type": "code",
   "execution_count": 12,
   "metadata": {},
   "outputs": [
    {
     "data": {
      "text/plain": [
       "4089.3999999999996"
      ]
     },
     "execution_count": 12,
     "metadata": {},
     "output_type": "execute_result"
    }
   ],
   "source": [
    "m = df['Vote Count'].quantile(0.9)\n",
    "m"
   ]
  },
  {
   "cell_type": "code",
   "execution_count": 13,
   "metadata": {},
   "outputs": [
    {
     "data": {
      "text/plain": [
       "(994, 5)"
      ]
     },
     "execution_count": 13,
     "metadata": {},
     "output_type": "execute_result"
    }
   ],
   "source": [
    "q_movies = df.copy().loc[df['Vote Count'] >= m]\n",
    "q_movies.shape"
   ]
  },
  {
   "cell_type": "code",
   "execution_count": 14,
   "metadata": {},
   "outputs": [],
   "source": [
    "def weighted_rating(x, m = m,C = C):\n",
    "    v = x['Vote Count']\n",
    "    R = x['Vote Average']\n",
    "    #Calculation based on the IMDB formula\n",
    "    return (v/(v+m) *R + (m/(m+v)) * C)\n",
    "\n"
   ]
  },
  {
   "cell_type": "code",
   "execution_count": 16,
   "metadata": {},
   "outputs": [],
   "source": [
    "#Adding New Rating Column Using the IMDB formula\n",
    "df['Weighted Rating'] = df.apply(weighted_rating, axis=1)"
   ]
  },
  {
   "cell_type": "code",
   "execution_count": 17,
   "metadata": {},
   "outputs": [
    {
     "name": "stdout",
     "output_type": "stream",
     "text": [
      "                           Original Title  Weighted Rating\n",
      "0                                  Fast X         6.689804\n",
      "1                            Extraction 2         6.618222\n",
      "2                    John Wick: Chapter 4         7.062413\n",
      "3     Spider-Man: Across the Spider-Verse         7.055721\n",
      "4             The Super Mario Bros. Movie         7.171415\n",
      "...                                   ...              ...\n",
      "9995                           Jessabelle         6.231852\n",
      "9996                                 Elio         6.377498\n",
      "9997                 Legado en los huesos         6.395868\n",
      "9998                Behind the Candelabra         6.424691\n",
      "9999                            Like Mike         6.350375\n",
      "\n",
      "[9937 rows x 2 columns]\n"
     ]
    }
   ],
   "source": [
    "print(df[['Original Title', 'Weighted Rating']])"
   ]
  },
  {
   "cell_type": "code",
   "execution_count": 18,
   "metadata": {},
   "outputs": [],
   "source": [
    "#So now we have added the Rating We can go through Buliding content based learning\n",
    "from sklearn.feature_extraction.text import TfidfVectorizer\n",
    "\n",
    "'''we create an instance of TfidfVectorizer. The stop_words='english' \n",
    "argument specifies that common English words like \"the,\" \"and,\" and \n",
    "\"is\" should be removed from the text data because they typically \n",
    "don't carry much meaning.'''\n",
    "\n",
    "tfidf_vectorizer = TfidfVectorizer(stop_words='english')\n",
    "tfidf_matrix = tfidf_vectorizer.fit_transform(df['Overview'])\n"
   ]
  },
  {
   "cell_type": "code",
   "execution_count": 19,
   "metadata": {},
   "outputs": [],
   "source": [
    "from sklearn.metrics.pairwise import linear_kernel\n",
    "\n",
    "cosine_sim = linear_kernel(tfidf_matrix,tfidf_matrix)"
   ]
  },
  {
   "cell_type": "code",
   "execution_count": 20,
   "metadata": {},
   "outputs": [],
   "source": [
    "def get_recommendations(movie_title, cosine_sim=cosine_sim, num_recommendations=10):\n",
    "    idx = df[df['Original Title'] == movie_title].index[0]\n",
    "    sim_scores = list(enumerate(cosine_sim[idx]))\n",
    "    sim_scores = sorted(sim_scores, key=lambda x: x[1], reverse=True)\n",
    "    sim_scores = sim_scores[1:(num_recommendations+1)]  # Top N similar movies (excluding itself)\n",
    "    movie_indices = [i[0] for i in sim_scores]\n",
    "    return df[['Original Title', 'Weighted Rating']].iloc[movie_indices]"
   ]
  },
  {
   "cell_type": "code",
   "execution_count": 23,
   "metadata": {},
   "outputs": [
    {
     "data": {
      "text/html": [
       "<div>\n",
       "<style scoped>\n",
       "    .dataframe tbody tr th:only-of-type {\n",
       "        vertical-align: middle;\n",
       "    }\n",
       "\n",
       "    .dataframe tbody tr th {\n",
       "        vertical-align: top;\n",
       "    }\n",
       "\n",
       "    .dataframe thead th {\n",
       "        text-align: right;\n",
       "    }\n",
       "</style>\n",
       "<table border=\"1\" class=\"dataframe\">\n",
       "  <thead>\n",
       "    <tr style=\"text-align: right;\">\n",
       "      <th></th>\n",
       "      <th>Original Title</th>\n",
       "      <th>Weighted Rating</th>\n",
       "    </tr>\n",
       "  </thead>\n",
       "  <tbody>\n",
       "    <tr>\n",
       "      <th>916</th>\n",
       "      <td>The Big 4</td>\n",
       "      <td>6.401078</td>\n",
       "    </tr>\n",
       "    <tr>\n",
       "      <th>3292</th>\n",
       "      <td>Sexy Movie</td>\n",
       "      <td>6.374973</td>\n",
       "    </tr>\n",
       "    <tr>\n",
       "      <th>3177</th>\n",
       "      <td>The Three Musketeers</td>\n",
       "      <td>6.161857</td>\n",
       "    </tr>\n",
       "    <tr>\n",
       "      <th>3709</th>\n",
       "      <td>IO</td>\n",
       "      <td>6.383482</td>\n",
       "    </tr>\n",
       "    <tr>\n",
       "      <th>1470</th>\n",
       "      <td>Die unendliche Geschichte</td>\n",
       "      <td>6.763823</td>\n",
       "    </tr>\n",
       "    <tr>\n",
       "      <th>2898</th>\n",
       "      <td>Indecent Proposal</td>\n",
       "      <td>6.359612</td>\n",
       "    </tr>\n",
       "    <tr>\n",
       "      <th>1560</th>\n",
       "      <td>ปฏิบัติการกู้หวย</td>\n",
       "      <td>6.378257</td>\n",
       "    </tr>\n",
       "    <tr>\n",
       "      <th>800</th>\n",
       "      <td>Fantastic Beasts and Where to Find Them</td>\n",
       "      <td>7.126771</td>\n",
       "    </tr>\n",
       "    <tr>\n",
       "      <th>8786</th>\n",
       "      <td>Friendzone</td>\n",
       "      <td>6.356325</td>\n",
       "    </tr>\n",
       "    <tr>\n",
       "      <th>1941</th>\n",
       "      <td>The Lucky One</td>\n",
       "      <td>6.703590</td>\n",
       "    </tr>\n",
       "  </tbody>\n",
       "</table>\n",
       "</div>"
      ],
      "text/plain": [
       "                               Original Title  Weighted Rating\n",
       "916                                 The Big 4         6.401078\n",
       "3292                               Sexy Movie         6.374973\n",
       "3177                     The Three Musketeers         6.161857\n",
       "3709                                       IO         6.383482\n",
       "1470                Die unendliche Geschichte         6.763823\n",
       "2898                        Indecent Proposal         6.359612\n",
       "1560                         ปฏิบัติการกู้หวย         6.378257\n",
       "800   Fantastic Beasts and Where to Find Them         7.126771\n",
       "8786                               Friendzone         6.356325\n",
       "1941                            The Lucky One         6.703590"
      ]
     },
     "execution_count": 23,
     "metadata": {},
     "output_type": "execute_result"
    }
   ],
   "source": [
    "# let try out\n",
    "\n",
    "input_movie = \"Harry Potter and the Philosopher's Stone\"\n",
    "recommendations = get_recommendations(input_movie)\n",
    "recommendations"
   ]
  },
  {
   "cell_type": "code",
   "execution_count": null,
   "metadata": {},
   "outputs": [],
   "source": [
    "\n"
   ]
  }
 ],
 "metadata": {
  "kernelspec": {
   "display_name": "Python 3",
   "language": "python",
   "name": "python3"
  },
  "language_info": {
   "codemirror_mode": {
    "name": "ipython",
    "version": 3
   },
   "file_extension": ".py",
   "mimetype": "text/x-python",
   "name": "python",
   "nbconvert_exporter": "python",
   "pygments_lexer": "ipython3",
   "version": "3.12.1"
  },
  "orig_nbformat": 4
 },
 "nbformat": 4,
 "nbformat_minor": 2
}
